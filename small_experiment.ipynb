{
 "cells": [
  {
   "cell_type": "code",
   "execution_count": 1,
   "id": "25cb88a0-71e0-4ed3-9a8f-704f08c07f9b",
   "metadata": {},
   "outputs": [],
   "source": [
    "from sklearn import datasets\n",
    "from credal_joint import CredalJoint\n",
    "from graphs import Node\n",
    "import numpy as np\n",
    "from itertools import product\n",
    "from new_tree import DecisionTree\n",
    "from scipy.optimize import minimize, Bounds\n",
    "from scipy.stats import entropy\n",
    "from sklearn.metrics import mutual_info_score"
   ]
  },
  {
   "cell_type": "code",
   "execution_count": 2,
   "id": "b2781ae1-4d56-45e4-a8d4-c39e2f053fd6",
   "metadata": {},
   "outputs": [],
   "source": [
    "iris = datasets.load_iris()"
   ]
  },
  {
   "cell_type": "code",
   "execution_count": 3,
   "id": "c6734307-e07e-4963-a6e4-fe9fda61818b",
   "metadata": {},
   "outputs": [],
   "source": [
    "X = iris['data']"
   ]
  },
  {
   "cell_type": "code",
   "execution_count": 4,
   "id": "bc05a2da-23d7-43a7-90ae-6249b4596ed0",
   "metadata": {},
   "outputs": [],
   "source": [
    "y = iris['target'].reshape(-1, 1)"
   ]
  },
  {
   "cell_type": "code",
   "execution_count": 54,
   "id": "d6b67020-cbd6-4097-af87-713f4975d487",
   "metadata": {},
   "outputs": [],
   "source": [
    "def discretize(X:np.ndarray, n_cat:int, min_ar:np.ndarray=None, max_ar:np.ndarray=None) -> np.ndarray:\n",
    "    \"\"\"\n",
    "    Digitizes the given data into a given number of categories.\n",
    "\n",
    "        Parameters:\n",
    "            X (np.ndarray): The data to digitize.\n",
    "            n_cat (int): The number of categories to digitize the data into.\n",
    "            min (float): The minimum value of the data.\n",
    "            max (float): The maximum value of the data.\n",
    "\n",
    "        Returns:\n",
    "            np.ndarray: The digitized data.\n",
    "    \"\"\"\n",
    "    new_X = np.zeros(X.shape)\n",
    "    if min_ar is None:\n",
    "        min_ar = np.min(X, axis=0)\n",
    "    if max_ar is None:\n",
    "        max_ar = np.max(X, axis=0)\n",
    "    for i in range(X.shape[1]):\n",
    "        new_X[:,i] = np.digitize(X[:,i], np.linspace(min_ar[i], max_ar[i], n_cat), False)\n",
    "    return new_X, min_ar, max_ar"
   ]
  },
  {
   "cell_type": "code",
   "execution_count": 55,
   "id": "b3042b32-cc58-4da6-9f37-2dffc48aeff0",
   "metadata": {},
   "outputs": [],
   "source": [
    "X_cat_train, min_ar, max_ar = digitize(X[:int(X.shape[0] / 2)], 3)\n",
    "X_cat_test, _, _ = digitize(X[int(X.shape[0] / 2):], 3, min_ar, max_ar)"
   ]
  }
 ],
 "metadata": {
  "kernelspec": {
   "display_name": "Python 3 (ipykernel)",
   "language": "python",
   "name": "python3"
  },
  "language_info": {
   "codemirror_mode": {
    "name": "ipython",
    "version": 3
   },
   "file_extension": ".py",
   "mimetype": "text/x-python",
   "name": "python",
   "nbconvert_exporter": "python",
   "pygments_lexer": "ipython3",
   "version": "3.11.5"
  }
 },
 "nbformat": 4,
 "nbformat_minor": 5
}
