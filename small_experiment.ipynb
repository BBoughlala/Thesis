{
 "cells": [
  {
   "cell_type": "code",
   "execution_count": 1,
   "id": "1f52c41f-4e52-4a74-b016-87950c85e3e9",
   "metadata": {},
   "outputs": [],
   "source": [
    "import numpy as np\n",
    "from datasets import zoo, wave, vehicle, sponge, soybean, iris, krkp, hepatitis, heartStat, dermatology, german, horse\n",
    "from sklearn.tree import DecisionTreeClassifier\n",
    "from minimal_credal_tree import DecisionTree\n",
    "import pandas as pd\n",
    "from noise import add_missing_values\n",
    "from sklearn.metrics import accuracy_score\n",
    "from minimal_credal_joint import CredalJoint"
   ]
  },
  {
   "cell_type": "code",
   "execution_count": 2,
   "id": "56647689-59c0-467e-96ff-57a4afc46d8b",
   "metadata": {},
   "outputs": [],
   "source": [
    "X, y = german.fetch()"
   ]
  },
  {
   "cell_type": "code",
   "execution_count": 4,
   "id": "ca09470f-6e76-47d8-86f3-cf3efe9957c6",
   "metadata": {},
   "outputs": [],
   "source": [
    "y_cmar = add_missing_values(y, 0.3)"
   ]
  },
  {
   "cell_type": "code",
   "execution_count": 5,
   "id": "ca479318-ab61-4e59-9fe8-d55ecb7f0617",
   "metadata": {},
   "outputs": [],
   "source": [
    "dt = DecisionTree(1, 100, 2)"
   ]
  },
  {
   "cell_type": "code",
   "execution_count": 6,
   "id": "5cf1c6dc-6a3c-473f-94b7-9bb487e5bb14",
   "metadata": {},
   "outputs": [
    {
     "name": "stderr",
     "output_type": "stream",
     "text": [
      "C:\\Users\\Bilal\\.conda\\envs\\thesis\\Lib\\site-packages\\numpy\\lib\\scimath.py:386: RuntimeWarning: divide by zero encountered in log\n",
      "  return nx.log(x)/nx.log(n)\n",
      "C:\\Users\\Bilal\\Desktop\\TUe\\Y2\\Q2\\code\\Thesis\\minimal_credal_joint.py:128: RuntimeWarning: invalid value encountered in multiply\n",
      "  tmp2 = p_x_comp * -1 *  p_y_x_comp * np.emath.logn(self.base, p_y_x_comp)\n",
      "C:\\Users\\Bilal\\Desktop\\TUe\\Y2\\Q2\\code\\Thesis\\minimal_credal_joint.py:124: RuntimeWarning: invalid value encountered in multiply\n",
      "  tmp1 = p_x * -1 * p_y_x * np.emath.logn(self.base, p_y_x)\n",
      "C:\\Users\\Bilal\\.conda\\envs\\thesis\\Lib\\site-packages\\scipy\\optimize\\_optimize.py:404: RuntimeWarning: Values in x were outside bounds during a minimize step, clipping to bounds\n",
      "  warnings.warn(\"Values in x were outside bounds during a \"\n"
     ]
    }
   ],
   "source": [
    "dt.fit(X, y_cmar)"
   ]
  },
  {
   "cell_type": "code",
   "execution_count": 7,
   "id": "d85bf1d9-1221-440e-a0d5-03b166aeae2d",
   "metadata": {},
   "outputs": [],
   "source": [
    "pred = dt.predict(X)"
   ]
  },
  {
   "cell_type": "code",
   "execution_count": 8,
   "id": "c36862d3-ad5a-4a73-83dd-cd9b0a7798df",
   "metadata": {},
   "outputs": [
    {
     "data": {
      "text/plain": [
       "0.868"
      ]
     },
     "execution_count": 8,
     "metadata": {},
     "output_type": "execute_result"
    }
   ],
   "source": [
    "accuracy_score(y, pred)"
   ]
  },
  {
   "cell_type": "code",
   "execution_count": 9,
   "id": "62c6dfcc-5e8a-4488-a38a-72d483e33c34",
   "metadata": {},
   "outputs": [
    {
     "data": {
      "text/plain": [
       "36"
      ]
     },
     "execution_count": 9,
     "metadata": {},
     "output_type": "execute_result"
    }
   ],
   "source": [
    "dt.get_depth()"
   ]
  },
  {
   "cell_type": "code",
   "execution_count": null,
   "id": "017b652b-9aee-4036-855b-306c52c2cae2",
   "metadata": {},
   "outputs": [],
   "source": []
  }
 ],
 "metadata": {
  "kernelspec": {
   "display_name": "Python 3 (ipykernel)",
   "language": "python",
   "name": "python3"
  },
  "language_info": {
   "codemirror_mode": {
    "name": "ipython",
    "version": 3
   },
   "file_extension": ".py",
   "mimetype": "text/x-python",
   "name": "python",
   "nbconvert_exporter": "python",
   "pygments_lexer": "ipython3",
   "version": "3.11.5"
  }
 },
 "nbformat": 4,
 "nbformat_minor": 5
}
