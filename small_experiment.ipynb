{
 "cells": [
  {
   "cell_type": "code",
   "execution_count": 1,
   "id": "86f676a7-4c4d-4d73-8f6d-69470692e11e",
   "metadata": {},
   "outputs": [],
   "source": [
    "import numpy as np\n",
    "import matplotlib.pyplot as plt"
   ]
  },
  {
   "cell_type": "code",
   "execution_count": 2,
   "id": "6a0c9bb2-0904-4c21-8fde-cd1fa812548d",
   "metadata": {},
   "outputs": [],
   "source": [
    "dice_experiment = np.random.choice([1,0], (100, 2), [1/2, 1/2])"
   ]
  },
  {
   "cell_type": "code",
   "execution_count": 3,
   "id": "5b6682fc-b924-4ce8-92c7-3438a56a955f",
   "metadata": {},
   "outputs": [],
   "source": [
    "def show_prob(x:np.ndarray, values:np.ndarray):\n",
    "    for dim in range(values.shape[0]):\n",
    "        for v in values[dim,:]:\n",
    "            prob = np.sum(x[:,dim] == v) / len(x[:,dim])\n",
    "            print(f'variable {dim} probability of {v}: {prob}')"
   ]
  },
  {
   "cell_type": "code",
   "execution_count": 4,
   "id": "b49df984-3f4e-49e5-ac9f-6926413916cf",
   "metadata": {},
   "outputs": [
    {
     "name": "stdout",
     "output_type": "stream",
     "text": [
      "variable 0 probability of 0: 0.52\n",
      "variable 0 probability of 1: 0.48\n",
      "variable 1 probability of 0: 0.44\n",
      "variable 1 probability of 1: 0.56\n"
     ]
    }
   ],
   "source": [
    "show_prob(dice_experiment, np.array([[0,1],[0,1]]))"
   ]
  },
  {
   "cell_type": "code",
   "execution_count": 5,
   "id": "ca4844eb-d5d0-4e30-b982-f2168c5e666e",
   "metadata": {},
   "outputs": [],
   "source": [
    "def missing(x:np.ndarray, target:int, p:float):\n",
    "    switch = np.random.choice([True, False], 1, [p, 1-p])\n",
    "    if x == target and switch:\n",
    "        return np.nan\n",
    "    else:\n",
    "        return x"
   ]
  },
  {
   "cell_type": "code",
   "execution_count": 6,
   "id": "e575937c-7bdc-4d04-b5cb-3fe433177dae",
   "metadata": {},
   "outputs": [],
   "source": [
    "missingArray = np.frompyfunc(missing, 3, 1)"
   ]
  },
  {
   "cell_type": "code",
   "execution_count": 7,
   "id": "ca8559b3-2433-4b0d-805b-f1e6749f31dc",
   "metadata": {},
   "outputs": [],
   "source": [
    "missing_dice = missingArray(dice_experiment, 1, 0.2)"
   ]
  },
  {
   "cell_type": "code",
   "execution_count": 8,
   "id": "476e08ea-a516-40ad-aee5-aa8db45c5f9d",
   "metadata": {},
   "outputs": [
    {
     "name": "stdout",
     "output_type": "stream",
     "text": [
      "variable 0 probability of 0: 0.52\n",
      "variable 0 probability of 1: 0.22\n",
      "variable 1 probability of 0: 0.44\n",
      "variable 1 probability of 1: 0.27\n"
     ]
    }
   ],
   "source": [
    "show_prob(missing_dice, np.array([[0,1],[0,1]]))"
   ]
  },
  {
   "cell_type": "code",
   "execution_count": 9,
   "id": "11925045-7883-4ed5-899a-f80bd622ed88",
   "metadata": {},
   "outputs": [],
   "source": [
    "def isnan(x:int):\n",
    "    if np.isnan(x):\n",
    "        return True\n",
    "    else:\n",
    "        return False"
   ]
  },
  {
   "cell_type": "code",
   "execution_count": 10,
   "id": "290b1f83-c9ba-4cba-91a0-eb7f97b075e6",
   "metadata": {},
   "outputs": [],
   "source": [
    "isnanArray = np.frompyfunc(isnan, 1, 1)"
   ]
  },
  {
   "cell_type": "code",
   "execution_count": 11,
   "id": "bcee0b06-0474-4cf8-93d3-226d63bf9321",
   "metadata": {},
   "outputs": [],
   "source": [
    "def number_of_unkown(x:np.ndarray):\n",
    "    return np.sum(isnanArray(x))"
   ]
  },
  {
   "cell_type": "code",
   "execution_count": 12,
   "id": "71222149-f467-400f-b666-521922fca57d",
   "metadata": {},
   "outputs": [],
   "source": [
    "def show_prob_interval(x:np.ndarray, values:list):\n",
    "    for dim in range(values.shape[0]):\n",
    "        n_unknown = number_of_unkown(x[:,dim])\n",
    "        for v in values[dim,:]:\n",
    "            low_prob = np.sum(x[:,dim] == v) / len(x[:,dim])\n",
    "            upper_prob = (np.sum(x[:,dim] == v) + n_unknown) / len(x[:,dim])\n",
    "            print(f'variable {dim} lower probability of {v}: {low_prob}, upper probability of {v}: {upper_prob}')"
   ]
  },
  {
   "cell_type": "code",
   "execution_count": 13,
   "id": "5c2f10b5-0daf-4a52-a3ce-4f690c1d58cd",
   "metadata": {},
   "outputs": [
    {
     "name": "stdout",
     "output_type": "stream",
     "text": [
      "variable 0 lower probability of 0: 0.52, upper probability of 0: 0.78\n",
      "variable 0 lower probability of 1: 0.22, upper probability of 1: 0.48\n",
      "variable 1 lower probability of 0: 0.44, upper probability of 0: 0.73\n",
      "variable 1 lower probability of 1: 0.27, upper probability of 1: 0.56\n"
     ]
    }
   ],
   "source": [
    "show_prob_interval(missing_dice, np.array([[0,1],[0,1]]))"
   ]
  },
  {
   "cell_type": "code",
   "execution_count": 14,
   "id": "40cf32cf-6679-49bc-99c4-78cf11e911ba",
   "metadata": {},
   "outputs": [],
   "source": [
    "def is_equal(x: np.ndarray):\n",
    "    mask = np.all(x, axis=1)\n",
    "    return mask"
   ]
  },
  {
   "cell_type": "code",
   "execution_count": 15,
   "id": "79329689-585f-477c-b698-1876f17541d4",
   "metadata": {},
   "outputs": [],
   "source": [
    "def get_joint(x:np.ndarray):\n",
    "    unique_obs = np.unique(x, axis=0)\n",
    "    for uniq in unique_obs:\n",
    "        count = np.sum(is_equal(x == uniq))\n",
    "        prob = count / x.shape[0]\n",
    "        print(f'{uniq} has probability of {prob}')"
   ]
  },
  {
   "cell_type": "code",
   "execution_count": 16,
   "id": "d3d80a2a-eb6e-47d7-a7d8-9f5c501b78c7",
   "metadata": {},
   "outputs": [
    {
     "name": "stdout",
     "output_type": "stream",
     "text": [
      "[0 0] has probability of 0.23\n",
      "[0 1] has probability of 0.29\n",
      "[1 0] has probability of 0.21\n",
      "[1 1] has probability of 0.27\n"
     ]
    }
   ],
   "source": [
    "get_joint(dice_experiment)"
   ]
  },
  {
   "cell_type": "code",
   "execution_count": 17,
   "id": "017bc8bf-aa33-4fa3-ab73-ed611b72c848",
   "metadata": {},
   "outputs": [],
   "source": [
    "def cartesian_product(arrays):\n",
    "    la = len(arrays)\n",
    "    dtype = np.result_type(*arrays)\n",
    "    arr = np.empty([len(a) for a in arrays] + [la], dtype=dtype)\n",
    "    for i, a in enumerate(np.ix_(*arrays)):\n",
    "        arr[...,i] = a\n",
    "    return arr.reshape(-1, la)"
   ]
  },
  {
   "cell_type": "code",
   "execution_count": 30,
   "id": "7a869f09-b401-4818-a520-d1f5708a16b6",
   "metadata": {},
   "outputs": [],
   "source": [
    "def is_possible_completion(x: np.ndarray, y: np.ndarray):\n",
    "    # Ensure y contains only numeric values\n",
    "    y_numeric = np.asarray(y, dtype=float)\n",
    "    \n",
    "    # Create mask for non-NaN values in y\n",
    "    mask = np.logical_not(np.isnan(y_numeric))\n",
    "    \n",
    "    # Perform element-wise comparison between non-NaN elements of x and y\n",
    "    comparison = x[mask] == y_numeric[mask]\n",
    "    \n",
    "    # Check if all comparisons are True\n",
    "    out = np.all(comparison)\n",
    "    \n",
    "    return out"
   ]
  },
  {
   "cell_type": "code",
   "execution_count": 41,
   "id": "5af4eacd-a399-4694-a285-6b8f46a79c77",
   "metadata": {},
   "outputs": [],
   "source": [
    "def get_joint_interval(x: np.ndarray, values: tuple):\n",
    "    possible_values = cartesian_product(values)\n",
    "    for possible_v in possible_values:\n",
    "        lower_count = np.sum(np.all(x == possible_v, axis=1))\n",
    "        lower_prob = lower_count / x.shape[0]\n",
    "        upper_count = lower_countv\n",
    "        unknown = x[np.sum(np.isnan(x.astype(float)), axis=1) > 0]\n",
    "        for i in unknown:\n",
    "            if is_possible_completion(possible_v, i):\n",
    "                upper_count += 1\n",
    "        upper_prob = upper_count / x.shape[0]\n",
    "        print(f'{possible_v} has a probability between {lower_prob} and {upper_prob}')"
   ]
  },
  {
   "cell_type": "code",
   "execution_count": 42,
   "id": "f9b3e79b-3818-456b-b284-52a8a5778f73",
   "metadata": {},
   "outputs": [
    {
     "name": "stdout",
     "output_type": "stream",
     "text": [
      "[0 0] has a probability between 0.23 and 0.55\n",
      "[0 1] has a probability between 0.14 and 0.46\n",
      "[1 0] has a probability between 0.12 and 0.35\n",
      "[1 1] has a probability between 0.04 and 0.27\n"
     ]
    }
   ],
   "source": [
    "get_joint_interval(missing_dice, (np.array([0,1]), np.array([0,1])))"
   ]
  },
  {
   "cell_type": "code",
   "execution_count": null,
   "id": "15e7b4ba-cd4b-4348-a12a-680e040e4841",
   "metadata": {},
   "outputs": [],
   "source": []
  }
 ],
 "metadata": {
  "kernelspec": {
   "display_name": "Python 3 (ipykernel)",
   "language": "python",
   "name": "python3"
  },
  "language_info": {
   "codemirror_mode": {
    "name": "ipython",
    "version": 3
   },
   "file_extension": ".py",
   "mimetype": "text/x-python",
   "name": "python",
   "nbconvert_exporter": "python",
   "pygments_lexer": "ipython3",
   "version": "3.11.5"
  }
 },
 "nbformat": 4,
 "nbformat_minor": 5
}
