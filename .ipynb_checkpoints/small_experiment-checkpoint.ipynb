{
 "cells": [
  {
   "cell_type": "code",
   "execution_count": 1,
   "id": "25cb88a0-71e0-4ed3-9a8f-704f08c07f9b",
   "metadata": {},
   "outputs": [
    {
     "name": "stderr",
     "output_type": "stream",
     "text": [
      "C:\\Users\\Bilal\\.conda\\envs\\thesis\\Lib\\site-packages\\tqdm\\auto.py:21: TqdmWarning: IProgress not found. Please update jupyter and ipywidgets. See https://ipywidgets.readthedocs.io/en/stable/user_install.html\n",
      "  from .autonotebook import tqdm as notebook_tqdm\n"
     ]
    }
   ],
   "source": [
    "from bayesian_network import BayesianNetworkSampler\n",
    "from sklearn.tree import DecisionTreeClassifier\n",
    "import pandas as pd\n",
    "import numpy as np\n",
    "from sklearn.tree import DecisionTreeClassifier\n",
    "from sklearn.model_selection import train_test_split\n",
    "from sklearn.model_selection import cross_val_score\n",
    "from credal_joint import CredalJoint\n",
    "from itertools import product\n",
    "from new_tree import DecisionTree"
   ]
  },
  {
   "cell_type": "code",
   "execution_count": 2,
   "id": "0e5818ad-c44d-4ef8-a3dc-54a0afd357b1",
   "metadata": {},
   "outputs": [],
   "source": [
    "data = pd.read_csv(r'data\\V5P0.7.csv')"
   ]
  },
  {
   "cell_type": "code",
   "execution_count": 3,
   "id": "40cc4c67-ec32-49c5-93c3-849e10b1dea6",
   "metadata": {},
   "outputs": [],
   "source": [
    "data = data.to_numpy()"
   ]
  },
  {
   "cell_type": "code",
   "execution_count": 4,
   "id": "46c5d8a4-98b8-4dbe-8024-a7834c96f0e1",
   "metadata": {},
   "outputs": [],
   "source": [
    "jfs = np.array(list(product(*[[0,1]]*5)))"
   ]
  },
  {
   "cell_type": "code",
   "execution_count": 8,
   "id": "547287e6-72a0-4a52-b7cf-b69fb47adcbf",
   "metadata": {},
   "outputs": [],
   "source": [
    "dt = DecisionTree(lower_ig=False, s=1, data=data, joint_feature_space=jfs, max_iter=10, base=2, threshold=10)"
   ]
  },
  {
   "cell_type": "code",
   "execution_count": 9,
   "id": "380d84a4-0ddb-42a7-b824-605a37dce4f4",
   "metadata": {},
   "outputs": [
    {
     "data": {
      "text/plain": [
       "array([1, 1, 1, 1, 1, 1, 1, 1, 1, 1, 1, 1, 1, 1, 1, 1, 1, 1, 1, 1, 1, 1,\n",
       "       1, 1, 1, 1, 1, 1, 1, 1, 1, 1, 1, 1, 1, 1, 1, 1, 1, 1, 1, 1, 1, 1,\n",
       "       1, 1, 1, 1, 1, 1, 1, 1, 1, 1, 1, 1, 1, 1, 1, 1, 1, 1, 1, 1, 1, 1,\n",
       "       1, 1, 1, 1, 1, 1, 1, 1, 1, 1, 1, 1, 1, 1, 1, 1, 1, 1, 1, 1, 1, 1,\n",
       "       1, 1, 1, 1, 1, 1, 1, 1, 1, 1, 1, 1], dtype=int64)"
      ]
     },
     "execution_count": 9,
     "metadata": {},
     "output_type": "execute_result"
    }
   ],
   "source": [
    "dt.predict(dt.root, data)"
   ]
  },
  {
   "cell_type": "code",
   "execution_count": 15,
   "id": "40c59afd-5ab4-45d0-baa1-168dabbacb22",
   "metadata": {},
   "outputs": [],
   "source": [
    "basic_dt = DecisionTreeClassifier().fit(data[:,:-1], data[:,-1])"
   ]
  },
  {
   "cell_type": "code",
   "execution_count": 16,
   "id": "3b0f6869-26a8-4711-8e91-123ed022abd4",
   "metadata": {},
   "outputs": [
    {
     "data": {
      "text/plain": [
       "array([1, 1, 0, 1, 1, 1, 1, 1, 1, 1, 1, 1, 1, 1, 1, 1, 1, 1, 1, 1, 1, 1,\n",
       "       1, 1, 1, 1, 1, 1, 1, 1, 1, 1, 1, 1, 1, 1, 1, 1, 1, 1, 1, 1, 0, 1,\n",
       "       1, 1, 1, 1, 1, 1, 0, 1, 1, 1, 1, 1, 1, 0, 1, 1, 1, 0, 0, 1, 1, 1,\n",
       "       1, 1, 1, 1, 1, 1, 1, 1, 1, 1, 1, 1, 1, 1, 1, 1, 1, 1, 1, 1, 1, 1,\n",
       "       1, 1, 1, 1, 1, 1, 1, 1, 1, 1, 1, 1], dtype=int64)"
      ]
     },
     "execution_count": 16,
     "metadata": {},
     "output_type": "execute_result"
    }
   ],
   "source": [
    "basic_dt.predict(data[:,:-1])"
   ]
  },
  {
   "cell_type": "code",
   "execution_count": null,
   "id": "44371310-7c2a-4576-a1e1-3fc8e95f98d5",
   "metadata": {},
   "outputs": [],
   "source": [
    "data[:,-1]"
   ]
  },
  {
   "cell_type": "code",
   "execution_count": 10,
   "id": "b1e479e1-576b-4110-a100-52cb1f6bb19f",
   "metadata": {},
   "outputs": [
    {
     "data": {
      "text/plain": [
       "1"
      ]
     },
     "execution_count": 10,
     "metadata": {},
     "output_type": "execute_result"
    }
   ],
   "source": [
    "dt.get_depth(dt.root)"
   ]
  },
  {
   "cell_type": "code",
   "execution_count": 13,
   "id": "8e27e311-a921-4bb2-ab2b-0beb55f45a9f",
   "metadata": {},
   "outputs": [
    {
     "data": {
      "text/plain": [
       "[]"
      ]
     },
     "execution_count": 13,
     "metadata": {},
     "output_type": "execute_result"
    }
   ],
   "source": [
    "dt.root.children"
   ]
  },
  {
   "cell_type": "code",
   "execution_count": 17,
   "id": "37e08147-ae7f-4a71-aace-e68d1623d828",
   "metadata": {},
   "outputs": [
    {
     "data": {
      "text/plain": [
       "4"
      ]
     },
     "execution_count": 17,
     "metadata": {},
     "output_type": "execute_result"
    }
   ],
   "source": [
    "basic_dt.get_depth()"
   ]
  },
  {
   "cell_type": "code",
   "execution_count": null,
   "id": "ce887bab-e304-4f4c-a348-5036c51da4b6",
   "metadata": {},
   "outputs": [],
   "source": []
  }
 ],
 "metadata": {
  "kernelspec": {
   "display_name": "Python 3 (ipykernel)",
   "language": "python",
   "name": "python3"
  },
  "language_info": {
   "codemirror_mode": {
    "name": "ipython",
    "version": 3
   },
   "file_extension": ".py",
   "mimetype": "text/x-python",
   "name": "python",
   "nbconvert_exporter": "python",
   "pygments_lexer": "ipython3",
   "version": "3.11.5"
  }
 },
 "nbformat": 4,
 "nbformat_minor": 5
}
