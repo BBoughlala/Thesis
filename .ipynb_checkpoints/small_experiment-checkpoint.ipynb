{
 "cells": [
  {
   "cell_type": "code",
   "execution_count": null,
   "id": "25cb88a0-71e0-4ed3-9a8f-704f08c07f9b",
   "metadata": {},
   "outputs": [],
   "source": [
    "from sklearn import datasets\n",
    "from credal_joint import CredalJoint\n",
    "from graphs import Node, MetaNode, Graph, MetaGraph\n",
    "import numpy as np\n",
    "from itertools import product\n",
    "from copy import deepcopy"
   ]
  },
  {
   "cell_type": "code",
   "execution_count": null,
   "id": "b2781ae1-4d56-45e4-a8d4-c39e2f053fd6",
   "metadata": {},
   "outputs": [],
   "source": [
    "iris = datasets.load_iris()"
   ]
  },
  {
   "cell_type": "code",
   "execution_count": null,
   "id": "88bfde6f-08dc-44c7-ad49-f975edf2df6d",
   "metadata": {},
   "outputs": [],
   "source": [
    "X = iris['data']\n",
    "y = iris['target'].reshape(-1,1)"
   ]
  },
  {
   "cell_type": "code",
   "execution_count": null,
   "id": "5609ef77-45bc-4021-a963-997e872eaf90",
   "metadata": {},
   "outputs": [],
   "source": [
    "def discretize(data, n_categories):\n",
    "    new_data = np.zeros(data.shape)\n",
    "    for col in range(data.shape[1]):\n",
    "        min = np.min(data[:,col])\n",
    "        max = np.max(data[:,col])\n",
    "        ranges = np.linspace(min, max, n_categories)\n",
    "        discretized = np.digitize(data[:,col], ranges)\n",
    "        new_data[:,col] = discretized\n",
    "    return new_data"
   ]
  },
  {
   "cell_type": "code",
   "execution_count": null,
   "id": "0303d05d-55af-4db9-ba1d-4081d3bba433",
   "metadata": {},
   "outputs": [],
   "source": [
    "X_discrete = discretize(X, 3)"
   ]
  },
  {
   "cell_type": "code",
   "execution_count": null,
   "id": "848a5bb0-9874-4e4b-9db7-869a2b19eb76",
   "metadata": {},
   "outputs": [],
   "source": [
    "data = np.concatenate((X_discrete, y), axis=1)"
   ]
  },
  {
   "cell_type": "code",
   "execution_count": null,
   "id": "ed95c8a3-67cc-402b-92f4-39ebbb619fae",
   "metadata": {},
   "outputs": [],
   "source": [
    "jfs = np.array(list(product(*[[0,1,2]]*5)))"
   ]
  },
  {
   "cell_type": "code",
   "execution_count": null,
   "id": "e4320842-8475-4e32-982c-a893c7c4a05f",
   "metadata": {},
   "outputs": [],
   "source": [
    "credal_joint = CredalJoint(data, jfs, 1, 5, 2)"
   ]
  },
  {
   "cell_type": "code",
   "execution_count": null,
   "id": "dab9f1ff-774a-4c48-afc2-3de707aecba2",
   "metadata": {},
   "outputs": [],
   "source": [
    "feature_ig_pairs = [(f, credal_joint.interval_ig(-1, f)) for f in range(data.shape[1] - 1)]"
   ]
  },
  {
   "cell_type": "code",
   "execution_count": null,
   "id": "98479111-01d8-4b1d-8dd8-dba7d6f388f9",
   "metadata": {},
   "outputs": [],
   "source": [
    "def best_feature(f_ig_p):\n",
    "    features = np.array([i[0] for i in f_ig_p])\n",
    "    interval_ig = np.array([i[1] for i in f_ig_p])\n",
    "    best_lower_bound = max(interval_ig[:,0])\n",
    "    return features[interval_ig[:,1] >= best_lower_bound]"
   ]
  },
  {
   "cell_type": "code",
   "execution_count": null,
   "id": "e50651fe-b152-4b44-be1b-0169ce159325",
   "metadata": {},
   "outputs": [],
   "source": [
    "best_feature(feature_ig_pairs)"
   ]
  },
  {
   "cell_type": "code",
   "execution_count": null,
   "id": "c6d3a43f-2901-44b9-ab0a-93af36413eac",
   "metadata": {},
   "outputs": [],
   "source": [
    "root = Node(None, [], None)\n",
    "graph = Graph(root)\n",
    "metaNode = MetaNode(root, [])\n",
    "metaGraph = MetaGraph(metaNode)"
   ]
  },
  {
   "cell_type": "code",
   "execution_count": null,
   "id": "5f4f8a7e-a65d-4124-b2c7-9419f3063d6a",
   "metadata": {},
   "outputs": [],
   "source": [
    "def create_child_sets(credal_joint, feature_set, meta_index, graph_index):\n",
    "    child_sets = []\n",
    "    for idx, feature in enumerate(feature_set):\n",
    "         \n",
    "    return child_sets"
   ]
  },
  {
   "cell_type": "code",
   "execution_count": null,
   "id": "6de59bc0-3013-46ca-85c6-4656f6c3c4ef",
   "metadata": {},
   "outputs": [],
   "source": [
    "def create_single_split(credal_joint, feature):\n",
    "    values = np.unique(credal_joint.joint_feature_space[:,feature])\n",
    "    root.feature = feature\n",
    "    root.children = [Node(None, [], None, root.index + i) for i in range(root.index + 1, len(values) + 1)]"
   ]
  },
  {
   "cell_type": "code",
   "execution_count": null,
   "id": "19b5b958-1ce7-48af-b90c-ae534b8742a6",
   "metadata": {},
   "outputs": [],
   "source": [
    "def build_tree(root, credal_joint, feature):\n",
    "    new_root = deepcopy(root)\n",
    "    new_root.feature = feature\n",
    "    values = np.unique(credal_joint.joint_feature_space[:,feature])\n",
    "    new_credal_joints = []\n",
    "    for v in values:\n",
    "        child_node = Node(None, [], None)\n",
    "        new_credal_joints.append(credal_joint.cond_jc(feature, v))\n",
    "        new_root.children.append(child_node)\n",
    "    return new_root, new_credal_joints"
   ]
  },
  {
   "cell_type": "code",
   "execution_count": null,
   "id": "07658a9a-8690-4bb4-be01-63d2975f5871",
   "metadata": {},
   "outputs": [],
   "source": [
    "def build_meta_tree(metaRoot, credal_joint):\n",
    "    feature_ig_pairs = [(f, credal_joint.interval_ig(-1, f)) for f in range(data.shape[1] - 1)]\n",
    "    best_features = best_feature(feature_ig_pairs)\n",
    "    for feature in best_features:\n",
    "        child_node, new_credal_joints = build_tree(metaRoot.graph, credal_joint, feature)\n",
    "        for ncj in new_credal_joints:\n",
    "            \n",
    "        metaRoot.children.append(child_node)\n",
    "    for metaChild in metaRoot.children:\n",
    "        new_credal_joint = credal_joint.cond_jc()\n",
    "        build_meta_tree(metaChild)"
   ]
  },
  {
   "cell_type": "code",
   "execution_count": null,
   "id": "671ec057-c922-43c9-b0f4-6f03c518d94b",
   "metadata": {},
   "outputs": [],
   "source": [
    "build_meta_tree(metaNode, credal_joint)"
   ]
  },
  {
   "cell_type": "code",
   "execution_count": null,
   "id": "7ca264cd-f777-4a07-a0c3-67b7141fb0e1",
   "metadata": {},
   "outputs": [],
   "source": [
    "metaNode.graph.children"
   ]
  },
  {
   "cell_type": "code",
   "execution_count": null,
   "id": "f3caea26-08f7-4fa3-be06-91ebf945cf7a",
   "metadata": {},
   "outputs": [],
   "source": [
    "metaNode.children[0].feature"
   ]
  },
  {
   "cell_type": "code",
   "execution_count": null,
   "id": "6adb2b91-b7a8-4852-8df2-c3e7c5d0e141",
   "metadata": {},
   "outputs": [],
   "source": [
    "metaNode.children[1].feature"
   ]
  },
  {
   "cell_type": "code",
   "execution_count": null,
   "id": "5db9c12b-d909-4486-b7a6-041855be20b3",
   "metadata": {},
   "outputs": [],
   "source": [
    "metaNode.children[0].children[0].feature"
   ]
  },
  {
   "cell_type": "code",
   "execution_count": null,
   "id": "023312ef-9e03-4b68-a847-41c3b85595b6",
   "metadata": {},
   "outputs": [],
   "source": []
  },
  {
   "cell_type": "code",
   "execution_count": null,
   "id": "3cf6eec3-7b6c-40cd-a65d-8ea0691c9d47",
   "metadata": {},
   "outputs": [],
   "source": []
  },
  {
   "cell_type": "code",
   "execution_count": null,
   "id": "0ebbad59-4f83-4740-b322-5f5021d8404c",
   "metadata": {},
   "outputs": [],
   "source": []
  },
  {
   "cell_type": "code",
   "execution_count": null,
   "id": "6c2e5ce1-7197-4f51-9d99-05d9d14a5def",
   "metadata": {},
   "outputs": [],
   "source": []
  },
  {
   "cell_type": "code",
   "execution_count": null,
   "id": "6246e0a7-6675-410b-afde-53fb84a181f3",
   "metadata": {},
   "outputs": [],
   "source": []
  },
  {
   "cell_type": "code",
   "execution_count": null,
   "id": "fe045747-2e17-4200-b81f-4ff52758475f",
   "metadata": {},
   "outputs": [],
   "source": []
  },
  {
   "cell_type": "code",
   "execution_count": null,
   "id": "205953c9-2cff-4c6f-9502-2102f5225753",
   "metadata": {},
   "outputs": [],
   "source": []
  },
  {
   "cell_type": "code",
   "execution_count": null,
   "id": "461101d4-aa2f-480c-9aa0-7997c47a7e6f",
   "metadata": {},
   "outputs": [],
   "source": []
  },
  {
   "cell_type": "code",
   "execution_count": null,
   "id": "a7da12f0-6b93-4fff-bde4-51c61e9e3893",
   "metadata": {},
   "outputs": [],
   "source": []
  },
  {
   "cell_type": "code",
   "execution_count": null,
   "id": "43272e63-fa63-4d54-9f4b-300a1da3ee7a",
   "metadata": {},
   "outputs": [],
   "source": []
  },
  {
   "cell_type": "code",
   "execution_count": null,
   "id": "599060fe-14a3-41c6-a29f-ef200499ae6e",
   "metadata": {},
   "outputs": [],
   "source": []
  },
  {
   "cell_type": "code",
   "execution_count": null,
   "id": "016dc92b-1b5d-40a4-889f-f378c9b2a59f",
   "metadata": {},
   "outputs": [],
   "source": []
  },
  {
   "cell_type": "code",
   "execution_count": null,
   "id": "08744c75-f8b9-4610-9f4f-afbcd16a5190",
   "metadata": {},
   "outputs": [],
   "source": [
    "class Node():\n",
    "    def __init__(self, feature=None, value=None, children=[]):\n",
    "        self.feature = feature\n",
    "        self.value = value\n",
    "        self.children = children"
   ]
  },
  {
   "cell_type": "code",
   "execution_count": null,
   "id": "6bc9c3d8-a412-47bb-a152-0a16044b93a6",
   "metadata": {},
   "outputs": [],
   "source": [
    "root = Node()"
   ]
  },
  {
   "cell_type": "code",
   "execution_count": null,
   "id": "32d5afbd-b6a2-434c-a1a5-6a5ad3026d02",
   "metadata": {},
   "outputs": [],
   "source": [
    "def build_tree(node, credal_joint):\n",
    "    if credal_joint.joint_feature_space.shape[1] == 1:\n",
    "        return []\n",
    "    feature_ig_pairs = [(f, credal_joint.interval_ig(-1, f)) for f in range(credal_joint.joint_feature_space.shape[1] - 1)]\n",
    "    selected_features = best_feature(feature_ig_pairs)\n",
    "    for feature in selected_features:\n",
    "        cluster = []\n",
    "        values = np.unique(credal_joint.joint_feature_space[:, feature])\n",
    "        for v in values:\n",
    "            child = Node(feature, v)\n",
    "            new_joint = credal_joint.cond_jc(feature, v)\n",
    "            build_tree(child, new_joint)\n",
    "            cluster.append(child)\n",
    "        node.children.append(cluster)"
   ]
  },
  {
   "cell_type": "code",
   "execution_count": null,
   "id": "1a2a7729-52b1-4168-8c26-da6c71d5aada",
   "metadata": {},
   "outputs": [],
   "source": [
    "build_tree(root, credal_joint)"
   ]
  },
  {
   "cell_type": "code",
   "execution_count": null,
   "id": "5e821da4-2a7a-440c-941a-a88bf998f279",
   "metadata": {},
   "outputs": [],
   "source": []
  }
 ],
 "metadata": {
  "kernelspec": {
   "display_name": "Python 3 (ipykernel)",
   "language": "python",
   "name": "python3"
  },
  "language_info": {
   "codemirror_mode": {
    "name": "ipython",
    "version": 3
   },
   "file_extension": ".py",
   "mimetype": "text/x-python",
   "name": "python",
   "nbconvert_exporter": "python",
   "pygments_lexer": "ipython3",
   "version": "3.11.5"
  }
 },
 "nbformat": 4,
 "nbformat_minor": 5
}
