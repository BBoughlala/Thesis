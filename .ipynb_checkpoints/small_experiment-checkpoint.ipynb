{
 "cells": [
  {
   "cell_type": "code",
   "execution_count": 1,
   "id": "237f8c7d-6f40-450c-8d76-5f9c5fc77337",
   "metadata": {},
   "outputs": [],
   "source": [
    "from sklearn.tree import DecisionTreeClassifier\n",
    "from sklearn.preprocessing import LabelEncoder\n",
    "from minimal_credal_tree import DecisionTree\n",
    "from sklearn.model_selection import KFold\n",
    "from sklearn.metrics import accuracy_score\n",
    "from ucimlrepo import fetch_ucirepo \n",
    "import numpy as np\n",
    "from scipy.stats import entropy\n",
    "import time\n",
    "from minimal_credal_joint import CredalJoint\n",
    "import noise\n",
    "from itertools import product"
   ]
  },
  {
   "cell_type": "code",
   "execution_count": 2,
   "id": "4083288a-1284-4953-ba01-4328b3f07141",
   "metadata": {},
   "outputs": [],
   "source": [
    "# fetch dataset \n",
    "iris = fetch_ucirepo(id=53) \n",
    "  \n",
    "# data (as pandas dataframes) \n",
    "X = iris.data.features \n",
    "y = iris.data.targets"
   ]
  },
  {
   "cell_type": "code",
   "execution_count": 3,
   "id": "473cb899-1578-4c26-a257-f127fd4f2de7",
   "metadata": {},
   "outputs": [],
   "source": [
    "X = X.to_numpy()\n",
    "y = y.to_numpy()"
   ]
  },
  {
   "cell_type": "code",
   "execution_count": 4,
   "id": "79a73905-1124-478d-a049-8ca2f5e2312f",
   "metadata": {},
   "outputs": [
    {
     "name": "stderr",
     "output_type": "stream",
     "text": [
      "C:\\Users\\Bilal\\.conda\\envs\\thesis\\Lib\\site-packages\\sklearn\\preprocessing\\_label.py:114: DataConversionWarning: A column-vector y was passed when a 1d array was expected. Please change the shape of y to (n_samples, ), for example using ravel().\n",
      "  y = column_or_1d(y, warn=True)\n"
     ]
    }
   ],
   "source": [
    "y = LabelEncoder().fit_transform(y)"
   ]
  },
  {
   "cell_type": "code",
   "execution_count": 5,
   "id": "f0fe776a-20bf-49e0-bde1-018912aa6dde",
   "metadata": {},
   "outputs": [],
   "source": [
    "kf = KFold(n_splits=10)\n",
    "\n",
    "results = []\n",
    "\n",
    "for train_idx, test_idx in kf.split(X):\n",
    "    X_train = X[train_idx]\n",
    "    X_test = X[test_idx]\n",
    "    y_train = y[train_idx]\n",
    "    y_test = y[test_idx]\n",
    "    dt = DecisionTreeClassifier()\n",
    "    dt.fit(X_train, y_train)\n",
    "    pred = dt.predict(X_test)\n",
    "    score = accuracy_score(y_test, pred)\n",
    "    results.append(score)"
   ]
  },
  {
   "cell_type": "code",
   "execution_count": 6,
   "id": "5aa9d309-1c72-4eb5-af1d-1d6c53aca3e3",
   "metadata": {},
   "outputs": [
    {
     "data": {
      "text/plain": [
       "0.9400000000000001"
      ]
     },
     "execution_count": 6,
     "metadata": {},
     "output_type": "execute_result"
    }
   ],
   "source": [
    "np.mean(results)"
   ]
  },
  {
   "cell_type": "code",
   "execution_count": 7,
   "id": "82dfd619-f3d2-4706-91dd-a0daf340474b",
   "metadata": {
    "scrolled": true
   },
   "outputs": [
    {
     "name": "stderr",
     "output_type": "stream",
     "text": [
      "C:\\Users\\Bilal\\Desktop\\TUe\\Y2\\Q2\\code\\Thesis\\minimal_credal_joint.py:135: RuntimeWarning: invalid value encountered in divide\n",
      "  p_y_x_min_comp = p_y_x_min_comp / (1 - self.marginal(False)[2][np.where(self.marginal(False)[0] == value)[0]])\n",
      "C:\\Users\\Bilal\\.conda\\envs\\thesis\\Lib\\site-packages\\numpy\\lib\\scimath.py:386: RuntimeWarning: divide by zero encountered in log\n",
      "  return nx.log(x)/nx.log(n)\n",
      "C:\\Users\\Bilal\\Desktop\\TUe\\Y2\\Q2\\code\\Thesis\\minimal_credal_joint.py:163: RuntimeWarning: invalid value encountered in multiply\n",
      "  tmp2 = p_x_comp * -1 *  p_y_x_comp * np.emath.logn(self.base, p_y_x_comp)\n",
      "C:\\Users\\Bilal\\Desktop\\TUe\\Y2\\Q2\\code\\Thesis\\minimal_credal_joint.py:134: RuntimeWarning: invalid value encountered in divide\n",
      "  p_y_x_max_comp = p_y_x_max_comp / (1 - self.marginal(False)[1][np.where(self.marginal(False)[0] == value)[0]])\n",
      "C:\\Users\\Bilal\\Desktop\\TUe\\Y2\\Q2\\code\\Thesis\\minimal_credal_joint.py:134: RuntimeWarning: invalid value encountered in divide\n",
      "  p_y_x_max_comp = p_y_x_max_comp / (1 - self.marginal(False)[1][np.where(self.marginal(False)[0] == value)[0]])\n",
      "C:\\Users\\Bilal\\.conda\\envs\\thesis\\Lib\\site-packages\\numpy\\lib\\scimath.py:386: RuntimeWarning: divide by zero encountered in log\n",
      "  return nx.log(x)/nx.log(n)\n",
      "C:\\Users\\Bilal\\Desktop\\TUe\\Y2\\Q2\\code\\Thesis\\minimal_credal_joint.py:163: RuntimeWarning: invalid value encountered in multiply\n",
      "  tmp2 = p_x_comp * -1 *  p_y_x_comp * np.emath.logn(self.base, p_y_x_comp)\n",
      "C:\\Users\\Bilal\\Desktop\\TUe\\Y2\\Q2\\code\\Thesis\\minimal_credal_joint.py:135: RuntimeWarning: invalid value encountered in divide\n",
      "  p_y_x_min_comp = p_y_x_min_comp / (1 - self.marginal(False)[2][np.where(self.marginal(False)[0] == value)[0]])\n"
     ]
    },
    {
     "name": "stdout",
     "output_type": "stream",
     "text": [
      "1.0\n",
      "1.0\n",
      "0.9333333333333333\n"
     ]
    },
    {
     "name": "stderr",
     "output_type": "stream",
     "text": [
      "C:\\Users\\Bilal\\Desktop\\TUe\\Y2\\Q2\\code\\Thesis\\minimal_credal_joint.py:134: RuntimeWarning: invalid value encountered in divide\n",
      "  p_y_x_max_comp = p_y_x_max_comp / (1 - self.marginal(False)[1][np.where(self.marginal(False)[0] == value)[0]])\n",
      "C:\\Users\\Bilal\\.conda\\envs\\thesis\\Lib\\site-packages\\numpy\\lib\\scimath.py:386: RuntimeWarning: divide by zero encountered in log\n",
      "  return nx.log(x)/nx.log(n)\n",
      "C:\\Users\\Bilal\\Desktop\\TUe\\Y2\\Q2\\code\\Thesis\\minimal_credal_joint.py:163: RuntimeWarning: invalid value encountered in multiply\n",
      "  tmp2 = p_x_comp * -1 *  p_y_x_comp * np.emath.logn(self.base, p_y_x_comp)\n",
      "C:\\Users\\Bilal\\Desktop\\TUe\\Y2\\Q2\\code\\Thesis\\minimal_credal_joint.py:135: RuntimeWarning: invalid value encountered in divide\n",
      "  p_y_x_min_comp = p_y_x_min_comp / (1 - self.marginal(False)[2][np.where(self.marginal(False)[0] == value)[0]])\n",
      "C:\\Users\\Bilal\\Desktop\\TUe\\Y2\\Q2\\code\\Thesis\\minimal_credal_joint.py:134: RuntimeWarning: invalid value encountered in divide\n",
      "  p_y_x_max_comp = p_y_x_max_comp / (1 - self.marginal(False)[1][np.where(self.marginal(False)[0] == value)[0]])\n",
      "C:\\Users\\Bilal\\Desktop\\TUe\\Y2\\Q2\\code\\Thesis\\minimal_credal_joint.py:135: RuntimeWarning: invalid value encountered in divide\n",
      "  p_y_x_min_comp = p_y_x_min_comp / (1 - self.marginal(False)[2][np.where(self.marginal(False)[0] == value)[0]])\n",
      "C:\\Users\\Bilal\\.conda\\envs\\thesis\\Lib\\site-packages\\numpy\\lib\\scimath.py:386: RuntimeWarning: divide by zero encountered in log\n",
      "  return nx.log(x)/nx.log(n)\n",
      "C:\\Users\\Bilal\\Desktop\\TUe\\Y2\\Q2\\code\\Thesis\\minimal_credal_joint.py:163: RuntimeWarning: invalid value encountered in multiply\n",
      "  tmp2 = p_x_comp * -1 *  p_y_x_comp * np.emath.logn(self.base, p_y_x_comp)\n"
     ]
    },
    {
     "name": "stdout",
     "output_type": "stream",
     "text": [
      "1.0\n",
      "0.9333333333333333\n",
      "0.8\n"
     ]
    },
    {
     "name": "stderr",
     "output_type": "stream",
     "text": [
      "C:\\Users\\Bilal\\.conda\\envs\\thesis\\Lib\\site-packages\\numpy\\lib\\scimath.py:386: RuntimeWarning: divide by zero encountered in log\n",
      "  return nx.log(x)/nx.log(n)\n",
      "C:\\Users\\Bilal\\Desktop\\TUe\\Y2\\Q2\\code\\Thesis\\minimal_credal_joint.py:163: RuntimeWarning: invalid value encountered in multiply\n",
      "  tmp2 = p_x_comp * -1 *  p_y_x_comp * np.emath.logn(self.base, p_y_x_comp)\n",
      "C:\\Users\\Bilal\\Desktop\\TUe\\Y2\\Q2\\code\\Thesis\\minimal_credal_joint.py:134: RuntimeWarning: invalid value encountered in divide\n",
      "  p_y_x_max_comp = p_y_x_max_comp / (1 - self.marginal(False)[1][np.where(self.marginal(False)[0] == value)[0]])\n",
      "C:\\Users\\Bilal\\Desktop\\TUe\\Y2\\Q2\\code\\Thesis\\minimal_credal_joint.py:135: RuntimeWarning: invalid value encountered in divide\n",
      "  p_y_x_min_comp = p_y_x_min_comp / (1 - self.marginal(False)[2][np.where(self.marginal(False)[0] == value)[0]])\n",
      "C:\\Users\\Bilal\\Desktop\\TUe\\Y2\\Q2\\code\\Thesis\\minimal_credal_joint.py:134: RuntimeWarning: invalid value encountered in divide\n",
      "  p_y_x_max_comp = p_y_x_max_comp / (1 - self.marginal(False)[1][np.where(self.marginal(False)[0] == value)[0]])\n",
      "C:\\Users\\Bilal\\Desktop\\TUe\\Y2\\Q2\\code\\Thesis\\minimal_credal_joint.py:135: RuntimeWarning: invalid value encountered in divide\n",
      "  p_y_x_min_comp = p_y_x_min_comp / (1 - self.marginal(False)[2][np.where(self.marginal(False)[0] == value)[0]])\n",
      "C:\\Users\\Bilal\\.conda\\envs\\thesis\\Lib\\site-packages\\numpy\\lib\\scimath.py:386: RuntimeWarning: divide by zero encountered in log\n",
      "  return nx.log(x)/nx.log(n)\n",
      "C:\\Users\\Bilal\\Desktop\\TUe\\Y2\\Q2\\code\\Thesis\\minimal_credal_joint.py:163: RuntimeWarning: invalid value encountered in multiply\n",
      "  tmp2 = p_x_comp * -1 *  p_y_x_comp * np.emath.logn(self.base, p_y_x_comp)\n",
      "C:\\Users\\Bilal\\Desktop\\TUe\\Y2\\Q2\\code\\Thesis\\minimal_credal_joint.py:134: RuntimeWarning: invalid value encountered in divide\n",
      "  p_y_x_max_comp = p_y_x_max_comp / (1 - self.marginal(False)[1][np.where(self.marginal(False)[0] == value)[0]])\n",
      "C:\\Users\\Bilal\\Desktop\\TUe\\Y2\\Q2\\code\\Thesis\\minimal_credal_joint.py:135: RuntimeWarning: invalid value encountered in divide\n",
      "  p_y_x_min_comp = p_y_x_min_comp / (1 - self.marginal(False)[2][np.where(self.marginal(False)[0] == value)[0]])\n",
      "C:\\Users\\Bilal\\.conda\\envs\\thesis\\Lib\\site-packages\\numpy\\lib\\scimath.py:386: RuntimeWarning: divide by zero encountered in log\n",
      "  return nx.log(x)/nx.log(n)\n",
      "C:\\Users\\Bilal\\Desktop\\TUe\\Y2\\Q2\\code\\Thesis\\minimal_credal_joint.py:163: RuntimeWarning: invalid value encountered in multiply\n",
      "  tmp2 = p_x_comp * -1 *  p_y_x_comp * np.emath.logn(self.base, p_y_x_comp)\n"
     ]
    },
    {
     "name": "stdout",
     "output_type": "stream",
     "text": [
      "1.0\n",
      "0.9333333333333333\n",
      "0.7333333333333333\n"
     ]
    },
    {
     "name": "stderr",
     "output_type": "stream",
     "text": [
      "C:\\Users\\Bilal\\Desktop\\TUe\\Y2\\Q2\\code\\Thesis\\minimal_credal_joint.py:135: RuntimeWarning: invalid value encountered in divide\n",
      "  p_y_x_min_comp = p_y_x_min_comp / (1 - self.marginal(False)[2][np.where(self.marginal(False)[0] == value)[0]])\n",
      "C:\\Users\\Bilal\\.conda\\envs\\thesis\\Lib\\site-packages\\numpy\\lib\\scimath.py:386: RuntimeWarning: divide by zero encountered in log\n",
      "  return nx.log(x)/nx.log(n)\n",
      "C:\\Users\\Bilal\\Desktop\\TUe\\Y2\\Q2\\code\\Thesis\\minimal_credal_joint.py:163: RuntimeWarning: invalid value encountered in multiply\n",
      "  tmp2 = p_x_comp * -1 *  p_y_x_comp * np.emath.logn(self.base, p_y_x_comp)\n",
      "C:\\Users\\Bilal\\Desktop\\TUe\\Y2\\Q2\\code\\Thesis\\minimal_credal_joint.py:134: RuntimeWarning: invalid value encountered in divide\n",
      "  p_y_x_max_comp = p_y_x_max_comp / (1 - self.marginal(False)[1][np.where(self.marginal(False)[0] == value)[0]])\n",
      "C:\\Users\\Bilal\\Desktop\\TUe\\Y2\\Q2\\code\\Thesis\\minimal_credal_joint.py:135: RuntimeWarning: invalid value encountered in divide\n",
      "  p_y_x_min_comp = p_y_x_min_comp / (1 - self.marginal(False)[2][np.where(self.marginal(False)[0] == value)[0]])\n",
      "C:\\Users\\Bilal\\.conda\\envs\\thesis\\Lib\\site-packages\\numpy\\lib\\scimath.py:386: RuntimeWarning: divide by zero encountered in log\n",
      "  return nx.log(x)/nx.log(n)\n",
      "C:\\Users\\Bilal\\Desktop\\TUe\\Y2\\Q2\\code\\Thesis\\minimal_credal_joint.py:163: RuntimeWarning: invalid value encountered in multiply\n",
      "  tmp2 = p_x_comp * -1 *  p_y_x_comp * np.emath.logn(self.base, p_y_x_comp)\n",
      "C:\\Users\\Bilal\\Desktop\\TUe\\Y2\\Q2\\code\\Thesis\\minimal_credal_joint.py:134: RuntimeWarning: invalid value encountered in divide\n",
      "  p_y_x_max_comp = p_y_x_max_comp / (1 - self.marginal(False)[1][np.where(self.marginal(False)[0] == value)[0]])\n"
     ]
    },
    {
     "name": "stdout",
     "output_type": "stream",
     "text": [
      "0.9333333333333333\n"
     ]
    },
    {
     "name": "stderr",
     "output_type": "stream",
     "text": [
      "C:\\Users\\Bilal\\Desktop\\TUe\\Y2\\Q2\\code\\Thesis\\minimal_credal_joint.py:135: RuntimeWarning: invalid value encountered in divide\n",
      "  p_y_x_min_comp = p_y_x_min_comp / (1 - self.marginal(False)[2][np.where(self.marginal(False)[0] == value)[0]])\n",
      "C:\\Users\\Bilal\\.conda\\envs\\thesis\\Lib\\site-packages\\numpy\\lib\\scimath.py:386: RuntimeWarning: divide by zero encountered in log\n",
      "  return nx.log(x)/nx.log(n)\n",
      "C:\\Users\\Bilal\\Desktop\\TUe\\Y2\\Q2\\code\\Thesis\\minimal_credal_joint.py:163: RuntimeWarning: invalid value encountered in multiply\n",
      "  tmp2 = p_x_comp * -1 *  p_y_x_comp * np.emath.logn(self.base, p_y_x_comp)\n",
      "C:\\Users\\Bilal\\Desktop\\TUe\\Y2\\Q2\\code\\Thesis\\minimal_credal_joint.py:134: RuntimeWarning: invalid value encountered in divide\n",
      "  p_y_x_max_comp = p_y_x_max_comp / (1 - self.marginal(False)[1][np.where(self.marginal(False)[0] == value)[0]])\n"
     ]
    }
   ],
   "source": [
    "kf = KFold(n_splits=10)\n",
    "\n",
    "results = []\n",
    "\n",
    "for train_idx, test_idx in kf.split(X):\n",
    "    X_train = X[train_idx]\n",
    "    X_test = X[test_idx]\n",
    "    y_train = y[train_idx]\n",
    "    y_test = y[test_idx]\n",
    "    dt = DecisionTree(1, 10, 2)\n",
    "    dt.fit(X_train, y_train)\n",
    "    pred = dt.predict(X_test)\n",
    "    score = accuracy_score(y_test, pred)\n",
    "    results.append(score)"
   ]
  },
  {
   "cell_type": "code",
   "execution_count": 8,
   "id": "be0d8d07-8474-400d-80d1-24b952e40a42",
   "metadata": {},
   "outputs": [
    {
     "data": {
      "text/plain": [
       "0.9266666666666667"
      ]
     },
     "execution_count": 8,
     "metadata": {},
     "output_type": "execute_result"
    }
   ],
   "source": [
    "np.mean(results)"
   ]
  },
  {
   "cell_type": "code",
   "execution_count": null,
   "id": "26fec341-16d8-4c98-88ca-93b18a3eb8ce",
   "metadata": {},
   "outputs": [],
   "source": []
  }
 ],
 "metadata": {
  "kernelspec": {
   "display_name": "Python 3 (ipykernel)",
   "language": "python",
   "name": "python3"
  },
  "language_info": {
   "codemirror_mode": {
    "name": "ipython",
    "version": 3
   },
   "file_extension": ".py",
   "mimetype": "text/x-python",
   "name": "python",
   "nbconvert_exporter": "python",
   "pygments_lexer": "ipython3",
   "version": "3.11.5"
  }
 },
 "nbformat": 4,
 "nbformat_minor": 5
}
