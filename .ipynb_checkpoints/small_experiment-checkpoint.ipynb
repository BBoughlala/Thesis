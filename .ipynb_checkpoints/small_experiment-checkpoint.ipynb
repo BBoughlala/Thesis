{
 "cells": [
  {
   "cell_type": "code",
   "execution_count": null,
   "id": "1f52c41f-4e52-4a74-b016-87950c85e3e9",
   "metadata": {},
   "outputs": [],
   "source": [
    "import numpy as np\n",
    "from datasets import zoo, wave, vehicle, sponge, soybean, iris, krkp, hepatitis, heartStat, dermatology, german, horse\n",
    "from sklearn.tree import DecisionTreeClassifier\n",
    "from minimal_credal_tree import DecisionTree\n",
    "import pandas as pd\n",
    "from noise import add_missing_values\n",
    "from sklearn.metrics import accuracy_score\n",
    "from minimal_credal_joint import CredalJoint"
   ]
  },
  {
   "cell_type": "code",
   "execution_count": null,
   "id": "56647689-59c0-467e-96ff-57a4afc46d8b",
   "metadata": {},
   "outputs": [],
   "source": [
    "X, y = wave.fetch()"
   ]
  },
  {
   "cell_type": "code",
   "execution_count": null,
   "id": "ca09470f-6e76-47d8-86f3-cf3efe9957c6",
   "metadata": {},
   "outputs": [],
   "source": [
    "y_mar = add_missing_values(y, 0.1)"
   ]
  },
  {
   "cell_type": "code",
   "execution_count": null,
   "id": "ca479318-ab61-4e59-9fe8-d55ecb7f0617",
   "metadata": {},
   "outputs": [],
   "source": [
    "dt = DecisionTree(1, 100, 2)"
   ]
  },
  {
   "cell_type": "code",
   "execution_count": null,
   "id": "5cf1c6dc-6a3c-473f-94b7-9bb487e5bb14",
   "metadata": {},
   "outputs": [],
   "source": [
    "dt.fit(X, y_mar)"
   ]
  },
  {
   "cell_type": "code",
   "execution_count": null,
   "id": "d85bf1d9-1221-440e-a0d5-03b166aeae2d",
   "metadata": {},
   "outputs": [],
   "source": [
    "pred = dt.predict(X)"
   ]
  },
  {
   "cell_type": "code",
   "execution_count": null,
   "id": "c36862d3-ad5a-4a73-83dd-cd9b0a7798df",
   "metadata": {},
   "outputs": [],
   "source": [
    "accuracy_score(y, pred)"
   ]
  },
  {
   "cell_type": "code",
   "execution_count": null,
   "id": "197928d3-838f-4762-9e2c-f3d577d7fdb0",
   "metadata": {},
   "outputs": [],
   "source": [
    "~(np.array([1]).astype(bool)).astype(int)"
   ]
  },
  {
   "cell_type": "code",
   "execution_count": null,
   "id": "ce0ac6ac-9e95-4b07-a57a-df2d7165f66d",
   "metadata": {},
   "outputs": [],
   "source": [
    "np.log(-0.1)"
   ]
  },
  {
   "cell_type": "code",
   "execution_count": null,
   "id": "f18cd22c-63a9-46bf-a624-2ec4eb2e043f",
   "metadata": {},
   "outputs": [],
   "source": []
  }
 ],
 "metadata": {
  "kernelspec": {
   "display_name": "Python 3 (ipykernel)",
   "language": "python",
   "name": "python3"
  },
  "language_info": {
   "codemirror_mode": {
    "name": "ipython",
    "version": 3
   },
   "file_extension": ".py",
   "mimetype": "text/x-python",
   "name": "python",
   "nbconvert_exporter": "python",
   "pygments_lexer": "ipython3",
   "version": "3.11.5"
  }
 },
 "nbformat": 4,
 "nbformat_minor": 5
}
